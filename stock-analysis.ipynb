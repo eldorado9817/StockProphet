{
 "cells": [
  {
   "cell_type": "code",
   "execution_count": 2,
   "metadata": {},
   "outputs": [
    {
     "ename": "ModuleNotFoundError",
     "evalue": "No module named 'yfinance'",
     "output_type": "error",
     "traceback": [
      "\u001B[1;31m---------------------------------------------------------------------------\u001B[0m",
      "\u001B[1;31mModuleNotFoundError\u001B[0m                       Traceback (most recent call last)",
      "\u001B[1;32m<ipython-input-2-98e162827def>\u001B[0m in \u001B[0;36m<module>\u001B[1;34m\u001B[0m\n\u001B[1;32m----> 1\u001B[1;33m \u001B[1;32mimport\u001B[0m \u001B[0myfinance\u001B[0m \u001B[1;32mas\u001B[0m \u001B[0myf\u001B[0m\u001B[1;33m\u001B[0m\u001B[1;33m\u001B[0m\u001B[0m\n\u001B[0m\u001B[0;32m      2\u001B[0m \u001B[1;33m\u001B[0m\u001B[0m\n\u001B[0;32m      3\u001B[0m \u001B[1;31m# Download historical data for Apple (AAPL) from Yahoo Finance\u001B[0m\u001B[1;33m\u001B[0m\u001B[1;33m\u001B[0m\u001B[1;33m\u001B[0m\u001B[0m\n\u001B[0;32m      4\u001B[0m \u001B[0mdata\u001B[0m \u001B[1;33m=\u001B[0m \u001B[0myf\u001B[0m\u001B[1;33m.\u001B[0m\u001B[0mdownload\u001B[0m\u001B[1;33m(\u001B[0m\u001B[1;34m\"AAPL\"\u001B[0m\u001B[1;33m,\u001B[0m \u001B[0mstart\u001B[0m\u001B[1;33m=\u001B[0m\u001B[1;34m\"2010-01-01\"\u001B[0m\u001B[1;33m,\u001B[0m \u001B[0mend\u001B[0m\u001B[1;33m=\u001B[0m\u001B[1;34m\"2023-03-26\"\u001B[0m\u001B[1;33m)\u001B[0m\u001B[1;33m\u001B[0m\u001B[1;33m\u001B[0m\u001B[0m\n\u001B[0;32m      5\u001B[0m \u001B[1;33m\u001B[0m\u001B[0m\n",
      "\u001B[1;31mModuleNotFoundError\u001B[0m: No module named 'yfinance'"
     ]
    }
   ],
   "source": [
    "import yfinance as yf\n",
    "\n",
    "# Download historical data for Apple (AAPL) from Yahoo Finance\n",
    "data = yf.download(\"AAPL\", start=\"2010-01-01\", end=\"2023-03-26\")\n",
    "\n",
    "# Print the first 5 rows of the data\n",
    "print(data.head())\n"
   ]
  },
  {
   "cell_type": "code",
   "execution_count": 3,
   "metadata": {},
   "outputs": [
    {
     "ename": "ModuleNotFoundError",
     "evalue": "No module named 'yfinance'",
     "output_type": "error",
     "traceback": [
      "\u001B[1;31m---------------------------------------------------------------------------\u001B[0m",
      "\u001B[1;31mModuleNotFoundError\u001B[0m                       Traceback (most recent call last)",
      "\u001B[1;32m<ipython-input-3-1363239ac8e8>\u001B[0m in \u001B[0;36m<module>\u001B[1;34m\u001B[0m\n\u001B[1;32m----> 1\u001B[1;33m \u001B[1;32mimport\u001B[0m \u001B[0myfinance\u001B[0m \u001B[1;32mas\u001B[0m \u001B[0myf\u001B[0m\u001B[1;33m\u001B[0m\u001B[1;33m\u001B[0m\u001B[0m\n\u001B[0m\u001B[0;32m      2\u001B[0m \u001B[1;32mimport\u001B[0m \u001B[0mmatplotlib\u001B[0m\u001B[1;33m.\u001B[0m\u001B[0mpyplot\u001B[0m \u001B[1;32mas\u001B[0m \u001B[0mplt\u001B[0m\u001B[1;33m\u001B[0m\u001B[1;33m\u001B[0m\u001B[0m\n\u001B[0;32m      3\u001B[0m \u001B[1;33m\u001B[0m\u001B[0m\n\u001B[0;32m      4\u001B[0m \u001B[1;31m# Download the data for the last week, in 5-minute intervals\u001B[0m\u001B[1;33m\u001B[0m\u001B[1;33m\u001B[0m\u001B[1;33m\u001B[0m\u001B[0m\n\u001B[0;32m      5\u001B[0m \u001B[0mdata\u001B[0m \u001B[1;33m=\u001B[0m \u001B[0myf\u001B[0m\u001B[1;33m.\u001B[0m\u001B[0mdownload\u001B[0m\u001B[1;33m(\u001B[0m\u001B[1;34m\"AAPL\"\u001B[0m\u001B[1;33m,\u001B[0m \u001B[0mperiod\u001B[0m\u001B[1;33m=\u001B[0m\u001B[1;34m\"1wk\"\u001B[0m\u001B[1;33m,\u001B[0m \u001B[0minterval\u001B[0m\u001B[1;33m=\u001B[0m\u001B[1;34m\"5m\"\u001B[0m\u001B[1;33m)\u001B[0m\u001B[1;33m\u001B[0m\u001B[1;33m\u001B[0m\u001B[0m\n",
      "\u001B[1;31mModuleNotFoundError\u001B[0m: No module named 'yfinance'"
     ]
    }
   ],
   "source": [
    "import yfinance as yf\n",
    "import matplotlib.pyplot as plt\n",
    "\n",
    "# Download the data for the last week, in 5-minute intervals\n",
    "data = yf.download(\"AAPL\", period=\"1wk\", interval=\"5m\")\n",
    "\n",
    "# Plot the closing price\n",
    "data['Close'].plot()\n",
    "plt.title('AAPL Stock Price (last week, 5-minute intervals)')\n",
    "plt.xlabel('Date')\n",
    "plt.ylabel('Price ($)')\n",
    "plt.show()\n"
   ]
  },
  {
   "cell_type": "code",
   "execution_count": 3,
   "metadata": {},
   "outputs": [
    {
     "name": "stdout",
     "output_type": "stream",
     "text": [
      "[*********************100%***********************]  1 of 1 completed\n"
     ]
    },
    {
     "name": "stderr",
     "output_type": "stream",
     "text": [
      "C:\\Users\\pouya\\AppData\\Local\\Temp\\ipykernel_8552\\3057716327.py:19: SettingWithCopyWarning: \n",
      "A value is trying to be set on a copy of a slice from a DataFrame.\n",
      "Try using .loc[row_indexer,col_indexer] = value instead\n",
      "\n",
      "See the caveats in the documentation: https://pandas.pydata.org/pandas-docs/stable/user_guide/indexing.html#returning-a-view-versus-a-copy\n",
      "  df.loc[:, f'lag_{i}'] = df.loc[:, 'Close_diff'].shift(i)\n",
      "C:\\Users\\pouya\\AppData\\Local\\Temp\\ipykernel_8552\\3057716327.py:19: SettingWithCopyWarning: \n",
      "A value is trying to be set on a copy of a slice from a DataFrame.\n",
      "Try using .loc[row_indexer,col_indexer] = value instead\n",
      "\n",
      "See the caveats in the documentation: https://pandas.pydata.org/pandas-docs/stable/user_guide/indexing.html#returning-a-view-versus-a-copy\n",
      "  df.loc[:, f'lag_{i}'] = df.loc[:, 'Close_diff'].shift(i)\n",
      "C:\\Users\\pouya\\AppData\\Local\\Temp\\ipykernel_8552\\3057716327.py:19: SettingWithCopyWarning: \n",
      "A value is trying to be set on a copy of a slice from a DataFrame.\n",
      "Try using .loc[row_indexer,col_indexer] = value instead\n",
      "\n",
      "See the caveats in the documentation: https://pandas.pydata.org/pandas-docs/stable/user_guide/indexing.html#returning-a-view-versus-a-copy\n",
      "  df.loc[:, f'lag_{i}'] = df.loc[:, 'Close_diff'].shift(i)\n",
      "C:\\Users\\pouya\\AppData\\Local\\Temp\\ipykernel_8552\\3057716327.py:19: SettingWithCopyWarning: \n",
      "A value is trying to be set on a copy of a slice from a DataFrame.\n",
      "Try using .loc[row_indexer,col_indexer] = value instead\n",
      "\n",
      "See the caveats in the documentation: https://pandas.pydata.org/pandas-docs/stable/user_guide/indexing.html#returning-a-view-versus-a-copy\n",
      "  df.loc[:, f'lag_{i}'] = df.loc[:, 'Close_diff'].shift(i)\n",
      "C:\\Users\\pouya\\AppData\\Local\\Temp\\ipykernel_8552\\3057716327.py:19: SettingWithCopyWarning: \n",
      "A value is trying to be set on a copy of a slice from a DataFrame.\n",
      "Try using .loc[row_indexer,col_indexer] = value instead\n",
      "\n",
      "See the caveats in the documentation: https://pandas.pydata.org/pandas-docs/stable/user_guide/indexing.html#returning-a-view-versus-a-copy\n",
      "  df.loc[:, f'lag_{i}'] = df.loc[:, 'Close_diff'].shift(i)\n",
      "C:\\Users\\pouya\\AppData\\Local\\Temp\\ipykernel_8552\\3057716327.py:19: SettingWithCopyWarning: \n",
      "A value is trying to be set on a copy of a slice from a DataFrame.\n",
      "Try using .loc[row_indexer,col_indexer] = value instead\n",
      "\n",
      "See the caveats in the documentation: https://pandas.pydata.org/pandas-docs/stable/user_guide/indexing.html#returning-a-view-versus-a-copy\n",
      "  df.loc[:, f'lag_{i}'] = df.loc[:, 'Close_diff'].shift(i)\n",
      "C:\\Users\\pouya\\AppData\\Local\\Temp\\ipykernel_8552\\3057716327.py:19: SettingWithCopyWarning: \n",
      "A value is trying to be set on a copy of a slice from a DataFrame.\n",
      "Try using .loc[row_indexer,col_indexer] = value instead\n",
      "\n",
      "See the caveats in the documentation: https://pandas.pydata.org/pandas-docs/stable/user_guide/indexing.html#returning-a-view-versus-a-copy\n",
      "  df.loc[:, f'lag_{i}'] = df.loc[:, 'Close_diff'].shift(i)\n",
      "C:\\Users\\pouya\\AppData\\Local\\Temp\\ipykernel_8552\\3057716327.py:19: SettingWithCopyWarning: \n",
      "A value is trying to be set on a copy of a slice from a DataFrame.\n",
      "Try using .loc[row_indexer,col_indexer] = value instead\n",
      "\n",
      "See the caveats in the documentation: https://pandas.pydata.org/pandas-docs/stable/user_guide/indexing.html#returning-a-view-versus-a-copy\n",
      "  df.loc[:, f'lag_{i}'] = df.loc[:, 'Close_diff'].shift(i)\n",
      "C:\\Users\\pouya\\AppData\\Local\\Temp\\ipykernel_8552\\3057716327.py:19: SettingWithCopyWarning: \n",
      "A value is trying to be set on a copy of a slice from a DataFrame.\n",
      "Try using .loc[row_indexer,col_indexer] = value instead\n",
      "\n",
      "See the caveats in the documentation: https://pandas.pydata.org/pandas-docs/stable/user_guide/indexing.html#returning-a-view-versus-a-copy\n",
      "  df.loc[:, f'lag_{i}'] = df.loc[:, 'Close_diff'].shift(i)\n",
      "C:\\Users\\pouya\\AppData\\Local\\Temp\\ipykernel_8552\\3057716327.py:19: SettingWithCopyWarning: \n",
      "A value is trying to be set on a copy of a slice from a DataFrame.\n",
      "Try using .loc[row_indexer,col_indexer] = value instead\n",
      "\n",
      "See the caveats in the documentation: https://pandas.pydata.org/pandas-docs/stable/user_guide/indexing.html#returning-a-view-versus-a-copy\n",
      "  df.loc[:, f'lag_{i}'] = df.loc[:, 'Close_diff'].shift(i)\n"
     ]
    }
   ],
   "source": [
    "import pandas as pd\n",
    "import numpy as np\n",
    "from sklearn.model_selection import train_test_split\n",
    "from sklearn.preprocessing import MinMaxScaler\n",
    "from sklearn.impute import SimpleImputer\n",
    "\n",
    "# Load the data\n",
    "df = yf.download(\"AAPL\", period=\"1wk\", interval=\"5m\")\n",
    "\n",
    "# Preprocess the data\n",
    "df['Close_diff'] = df['Close'].diff()\n",
    "df = df.dropna()\n",
    "\n",
    "# Number of lags to use. lag \n",
    "n_lags = 10\n",
    "\n",
    "# Create lagged features\n",
    "for i in range(1, n_lags+1):\n",
    "    df.loc[:, f'lag_{i}'] = df.loc[:, 'Close_diff'].shift(i)\n",
    "\n",
    "\n",
    "# Split the data into training and testing sets\n",
    "X = df.drop(['Close', 'Close_diff'], axis=1)\n",
    "y = np.where(df['Close_diff'] > 0, 1, 0)\n",
    "X_train, X_test, y_train, y_test = train_test_split(X, y, test_size=0.2, shuffle=False)\n",
    "\n",
    "# Fill in missing values with the mean\n",
    "imp = SimpleImputer(strategy='mean')\n",
    "X_train = imp.fit_transform(X_train)\n",
    "X_test = imp.transform(X_test)\n",
    "\n",
    "\n",
    "# Scale the data\n",
    "scaler = MinMaxScaler()\n",
    "X_train_scaled = scaler.fit_transform(X_train)\n",
    "X_test_scaled = scaler.transform(X_test)\n"
   ]
  },
  {
   "cell_type": "code",
   "execution_count": 4,
   "metadata": {},
   "outputs": [
    {
     "name": "stdout",
     "output_type": "stream",
     "text": [
      "              precision    recall  f1-score   support\n",
      "\n",
      "           0       0.48      1.00      0.65        37\n",
      "           1       1.00      0.02      0.05        41\n",
      "\n",
      "    accuracy                           0.49        78\n",
      "   macro avg       0.74      0.51      0.35        78\n",
      "weighted avg       0.75      0.49      0.33        78\n",
      "\n"
     ]
    }
   ],
   "source": [
    "from sklearn.ensemble import RandomForestClassifier\n",
    "from sklearn.metrics import classification_report\n",
    "\n",
    "# Train a random forest classifier\n",
    "rf = RandomForestClassifier(n_estimators=100, random_state=42)\n",
    "rf.fit(X_train_scaled, y_train)\n",
    "\n",
    "# Predict on the test set and evaluate the performance\n",
    "y_pred = rf.predict(X_test_scaled)\n",
    "print(classification_report(y_test, y_pred))\n"
   ]
  },
  {
   "cell_type": "code",
   "execution_count": 5,
   "metadata": {},
   "outputs": [
    {
     "name": "stdout",
     "output_type": "stream",
     "text": [
      "[*********************100%***********************]  1 of 1 completed\n",
      "                  Open        High         Low       Close   Adj Close  \\\n",
      "Date                                                                     \n",
      "2022-03-29  176.690002  179.009995  176.339996  178.960007  177.882446   \n",
      "2022-03-30  178.550003  179.610001  176.699997  177.770004  176.699615   \n",
      "2022-03-31  177.839996  178.029999  174.399994  174.610001  173.558655   \n",
      "2022-04-01  174.029999  174.880005  171.940002  174.309998  173.260452   \n",
      "2022-04-04  174.570007  178.490005  174.440002  178.440002  177.365585   \n",
      "\n",
      "               Volume  \n",
      "Date                   \n",
      "2022-03-29  100589400  \n",
      "2022-03-30   92633200  \n",
      "2022-03-31  103049300  \n",
      "2022-04-01   78751300  \n",
      "2022-04-04   76468400  \n"
     ]
    },
    {
     "name": "stderr",
     "output_type": "stream",
     "text": [
      "C:\\Users\\pouya\\AppData\\Local\\Temp\\ipykernel_8552\\1411473490.py:18: SettingWithCopyWarning: \n",
      "A value is trying to be set on a copy of a slice from a DataFrame.\n",
      "Try using .loc[row_indexer,col_indexer] = value instead\n",
      "\n",
      "See the caveats in the documentation: https://pandas.pydata.org/pandas-docs/stable/user_guide/indexing.html#returning-a-view-versus-a-copy\n",
      "  df.loc[:, f'lag_{i}'] = df.loc[:, 'Close_diff'].shift(i)\n",
      "C:\\Users\\pouya\\AppData\\Local\\Temp\\ipykernel_8552\\1411473490.py:18: SettingWithCopyWarning: \n",
      "A value is trying to be set on a copy of a slice from a DataFrame.\n",
      "Try using .loc[row_indexer,col_indexer] = value instead\n",
      "\n",
      "See the caveats in the documentation: https://pandas.pydata.org/pandas-docs/stable/user_guide/indexing.html#returning-a-view-versus-a-copy\n",
      "  df.loc[:, f'lag_{i}'] = df.loc[:, 'Close_diff'].shift(i)\n",
      "C:\\Users\\pouya\\AppData\\Local\\Temp\\ipykernel_8552\\1411473490.py:18: SettingWithCopyWarning: \n",
      "A value is trying to be set on a copy of a slice from a DataFrame.\n",
      "Try using .loc[row_indexer,col_indexer] = value instead\n",
      "\n",
      "See the caveats in the documentation: https://pandas.pydata.org/pandas-docs/stable/user_guide/indexing.html#returning-a-view-versus-a-copy\n",
      "  df.loc[:, f'lag_{i}'] = df.loc[:, 'Close_diff'].shift(i)\n",
      "C:\\Users\\pouya\\AppData\\Local\\Temp\\ipykernel_8552\\1411473490.py:18: SettingWithCopyWarning: \n",
      "A value is trying to be set on a copy of a slice from a DataFrame.\n",
      "Try using .loc[row_indexer,col_indexer] = value instead\n",
      "\n",
      "See the caveats in the documentation: https://pandas.pydata.org/pandas-docs/stable/user_guide/indexing.html#returning-a-view-versus-a-copy\n",
      "  df.loc[:, f'lag_{i}'] = df.loc[:, 'Close_diff'].shift(i)\n",
      "C:\\Users\\pouya\\AppData\\Local\\Temp\\ipykernel_8552\\1411473490.py:18: SettingWithCopyWarning: \n",
      "A value is trying to be set on a copy of a slice from a DataFrame.\n",
      "Try using .loc[row_indexer,col_indexer] = value instead\n",
      "\n",
      "See the caveats in the documentation: https://pandas.pydata.org/pandas-docs/stable/user_guide/indexing.html#returning-a-view-versus-a-copy\n",
      "  df.loc[:, f'lag_{i}'] = df.loc[:, 'Close_diff'].shift(i)\n",
      "C:\\Users\\pouya\\AppData\\Local\\Temp\\ipykernel_8552\\1411473490.py:18: SettingWithCopyWarning: \n",
      "A value is trying to be set on a copy of a slice from a DataFrame.\n",
      "Try using .loc[row_indexer,col_indexer] = value instead\n",
      "\n",
      "See the caveats in the documentation: https://pandas.pydata.org/pandas-docs/stable/user_guide/indexing.html#returning-a-view-versus-a-copy\n",
      "  df.loc[:, f'lag_{i}'] = df.loc[:, 'Close_diff'].shift(i)\n",
      "C:\\Users\\pouya\\AppData\\Local\\Temp\\ipykernel_8552\\1411473490.py:18: SettingWithCopyWarning: \n",
      "A value is trying to be set on a copy of a slice from a DataFrame.\n",
      "Try using .loc[row_indexer,col_indexer] = value instead\n",
      "\n",
      "See the caveats in the documentation: https://pandas.pydata.org/pandas-docs/stable/user_guide/indexing.html#returning-a-view-versus-a-copy\n",
      "  df.loc[:, f'lag_{i}'] = df.loc[:, 'Close_diff'].shift(i)\n",
      "C:\\Users\\pouya\\AppData\\Local\\Temp\\ipykernel_8552\\1411473490.py:18: SettingWithCopyWarning: \n",
      "A value is trying to be set on a copy of a slice from a DataFrame.\n",
      "Try using .loc[row_indexer,col_indexer] = value instead\n",
      "\n",
      "See the caveats in the documentation: https://pandas.pydata.org/pandas-docs/stable/user_guide/indexing.html#returning-a-view-versus-a-copy\n",
      "  df.loc[:, f'lag_{i}'] = df.loc[:, 'Close_diff'].shift(i)\n",
      "C:\\Users\\pouya\\AppData\\Local\\Temp\\ipykernel_8552\\1411473490.py:18: SettingWithCopyWarning: \n",
      "A value is trying to be set on a copy of a slice from a DataFrame.\n",
      "Try using .loc[row_indexer,col_indexer] = value instead\n",
      "\n",
      "See the caveats in the documentation: https://pandas.pydata.org/pandas-docs/stable/user_guide/indexing.html#returning-a-view-versus-a-copy\n",
      "  df.loc[:, f'lag_{i}'] = df.loc[:, 'Close_diff'].shift(i)\n",
      "C:\\Users\\pouya\\AppData\\Local\\Temp\\ipykernel_8552\\1411473490.py:18: SettingWithCopyWarning: \n",
      "A value is trying to be set on a copy of a slice from a DataFrame.\n",
      "Try using .loc[row_indexer,col_indexer] = value instead\n",
      "\n",
      "See the caveats in the documentation: https://pandas.pydata.org/pandas-docs/stable/user_guide/indexing.html#returning-a-view-versus-a-copy\n",
      "  df.loc[:, f'lag_{i}'] = df.loc[:, 'Close_diff'].shift(i)\n"
     ]
    }
   ],
   "source": [
    "# Trying to increase the accuracy of the model by adding more data\n",
    "\n",
    "# Load the data\n",
    "df = yf.download(\"AAPL\", period=\"1y\", interval=\"1d\")\n",
    "\n",
    "print(df.head())\n",
    "\n",
    "\n",
    "# Preprocess the data\n",
    "df['Close_diff'] = df['Close'].diff()\n",
    "df = df.dropna()\n",
    "\n",
    "# Number of lags to use.\n",
    "n_lags = 10\n",
    "\n",
    "# Create lagged features\n",
    "for i in range(1, n_lags+1):\n",
    "    df.loc[:, f'lag_{i}'] = df.loc[:, 'Close_diff'].shift(i)\n",
    "\n",
    "\n",
    "# Split the data into training and testing sets\n",
    "X = df.drop(['Close', 'Close_diff'], axis=1)\n",
    "y = np.where(df['Close_diff'] > 0, 1, 0)\n",
    "X_train, X_test, y_train, y_test = train_test_split(X, y, test_size=0.2, shuffle=False)\n",
    "\n",
    "# Fill in missing values with the mean\n",
    "imp = SimpleImputer(strategy='mean')\n",
    "X_train = imp.fit_transform(X_train)\n",
    "X_test = imp.transform(X_test)\n",
    "\n",
    "\n",
    "# Scale the data\n",
    "scaler = MinMaxScaler()\n",
    "X_train_scaled = scaler.fit_transform(X_train)\n",
    "X_test_scaled = scaler.transform(X_test)\n"
   ]
  },
  {
   "cell_type": "code",
   "execution_count": 6,
   "metadata": {},
   "outputs": [
    {
     "name": "stdout",
     "output_type": "stream",
     "text": [
      "Index(['Open', 'High', 'Low', 'Adj Close', 'Volume', 'lag_1', 'lag_2', 'lag_3',\n",
      "       'lag_4', 'lag_5', 'lag_6', 'lag_7', 'lag_8', 'lag_9', 'lag_10'],\n",
      "      dtype='object')\n"
     ]
    }
   ],
   "source": [
    "# Feature name list\n",
    "feature_names = X.columns\n",
    "print(feature_names)"
   ]
  },
  {
   "cell_type": "code",
   "execution_count": 7,
   "metadata": {},
   "outputs": [
    {
     "name": "stdout",
     "output_type": "stream",
     "text": [
      "              precision    recall  f1-score   support\n",
      "\n",
      "           0       0.49      0.85      0.62        20\n",
      "           1       0.80      0.40      0.53        30\n",
      "\n",
      "    accuracy                           0.58        50\n",
      "   macro avg       0.64      0.62      0.58        50\n",
      "weighted avg       0.67      0.58      0.57        50\n",
      "\n"
     ]
    }
   ],
   "source": [
    "# Train a random forest classifier\n",
    "rf = RandomForestClassifier(n_estimators=100, random_state=42)\n",
    "rf.fit(X_train_scaled, y_train)\n",
    "\n",
    "# Predict on the test set and evaluate the performance\n",
    "y_pred = rf.predict(X_test_scaled)\n",
    "print(classification_report(y_test, y_pred))"
   ]
  },
  {
   "cell_type": "code",
   "execution_count": 8,
   "metadata": {},
   "outputs": [
    {
     "name": "stdout",
     "output_type": "stream",
     "text": [
      "[[17  3]\n",
      " [18 12]]\n"
     ]
    },
    {
     "data": {
      "image/png": "[encoded data removed]",
      "text/plain": [
       "<Figure size 640x480 with 1 Axes>"
      ]
     },
     "metadata": {},
     "output_type": "display_data"
    }
   ],
   "source": [
    "import matplotlib.pyplot as plt\n",
    "from sklearn.metrics import confusion_matrix, roc_curve\n",
    "\n",
    "# Predict on the test set\n",
    "y_pred = rf.predict(X_test_scaled)\n",
    "\n",
    "# Create a confusion matrix\n",
    "cm = confusion_matrix(y_test, y_pred)\n",
    "print(cm)\n",
    "\n",
    "# Create a ROC curve\n",
    "fpr, tpr, thresholds = roc_curve(y_test, y_pred)\n",
    "plt.plot(fpr, tpr)\n",
    "plt.xlabel('False Positive Rate')\n",
    "plt.ylabel('True Positive Rate')\n",
    "plt.title('ROC Curve')\n",
    "plt.show()\n"
   ]
  },
  {
   "cell_type": "code",
   "execution_count": 9,
   "metadata": {},
   "outputs": [
    {
     "name": "stdout",
     "output_type": "stream",
     "text": [
      "Prediction: [0]\n"
     ]
    }
   ],
   "source": [
    "# Test the model on a realworld data\n",
    "import numpy as np\n",
    "\n",
    "# Define the feature names\n",
    "feature_names = [\"Open\", \"High\", \"Low\", \"Close\", \"Adj Close\", \"Volume\"]\n",
    "\n",
    "# So, we need to add 9 more features to the feature vector, using the same values as the last feature in the feature vector.\n",
    "\n",
    "# Define the feature vector as a numpy array\n",
    "new_data = np.array([133.5, 135.2, 182.5, 134.2, 134.2, 89347166, 0, 0, 0, 0, 0, 0, 0, 0, 0])\n",
    "\n",
    "# Reshape the feature vector \n",
    "new_data = new_data.reshape(1, -1) \n",
    "\n",
    "# Scale the feature vector\n",
    "new_data_scaled = scaler.transform(new_data)\n",
    "\n",
    "# Make a prediction using the trained model\n",
    "prediction = rf.predict(new_data_scaled)\n",
    "\n",
    "print(f\"Prediction: {prediction}\")"
   ]
  }
 ],
 "metadata": {
  "kernelspec": {
   "display_name": "Python 3",
   "language": "python",
   "name": "python3"
  },
  "language_info": {
   "codemirror_mode": {
    "name": "ipython",
    "version": 3
   },
   "file_extension": ".py",
   "mimetype": "text/x-python",
   "name": "python",
   "nbconvert_exporter": "python",
   "pygments_lexer": "ipython3",
   "version": "3.7.3"
  }
 },
 "nbformat": 4,
 "nbformat_minor": 2
}